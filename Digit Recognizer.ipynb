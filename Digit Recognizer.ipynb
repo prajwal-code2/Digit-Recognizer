{
 "cells": [
  {
   "cell_type": "code",
   "execution_count": null,
   "id": "d10de196",
   "metadata": {},
   "outputs": [],
   "source": [
    "# Modules to Import\n",
    "\n",
    "import pandas as pd\n",
    "from sklearn.model_selection import train_test_split\n",
    "from tensorflow import keras \n",
    "from tensorflow.keras.models import Sequential\n",
    "from tensorflow.keras.layers import Dense, Dropout\n",
    "from joblib import dump\n",
    "from tensorflow.keras.callbacks import Callback, EarlyStopping, ReduceLROnPlateau"
   ]
  },
  {
   "cell_type": "code",
   "execution_count": null,
   "id": "577bc9bc",
   "metadata": {},
   "outputs": [],
   "source": [
    "# Load Dataset\n",
    "\n",
    "train_dataset=pd.read_csv(\"train.csv\")\n",
    "train_dataset"
   ]
  },
  {
   "cell_type": "code",
   "execution_count": null,
   "id": "bc54d9b1",
   "metadata": {},
   "outputs": [],
   "source": [
    "# Drop the Label Column to make training examples\n",
    "\n",
    "X=train_dataset.drop(['label'],axis=1)"
   ]
  },
  {
   "cell_type": "code",
   "execution_count": null,
   "id": "7b100d97",
   "metadata": {},
   "outputs": [],
   "source": [
    "# Training Labels\n",
    "\n",
    "y=train_dataset['label']"
   ]
  },
  {
   "cell_type": "code",
   "execution_count": null,
   "id": "59e1b83a",
   "metadata": {},
   "outputs": [],
   "source": [
    "# Split dataset into train/test for evaluation\n",
    "\n",
    "x_train, x_test, y_train, y_test = train_test_split(X, y, test_size=0.10, random_state=42)"
   ]
  },
  {
   "cell_type": "code",
   "execution_count": null,
   "id": "06bfb025",
   "metadata": {},
   "outputs": [],
   "source": [
    "# Converting pandas dataframe to numpy for keras \n",
    "\n",
    "x_train=x_train.to_numpy()\n",
    "y_train=y_train.to_numpy()\n",
    "x_test=x_test.to_numpy()\n",
    "y_test=y_test.to_numpy()"
   ]
  },
  {
   "cell_type": "code",
   "execution_count": null,
   "id": "29d5be2b",
   "metadata": {},
   "outputs": [],
   "source": [
    "# Making label one_hot_encoding\n",
    "\n",
    "y_train = keras.utils.to_categorical(y_train, 10)\n",
    "y_test = keras.utils.to_categorical(y_test, 10)\n",
    "\n",
    "# Normalizing the data \n",
    "\n",
    "x_train = x_train.astype('float32')\n",
    "x_test = x_test.astype('float32')\n",
    "x_train /= 255\n",
    "x_test /= 255"
   ]
  },
  {
   "cell_type": "code",
   "execution_count": null,
   "id": "79715ec5",
   "metadata": {},
   "outputs": [],
   "source": [
    "x_train.shape"
   ]
  },
  {
   "cell_type": "code",
   "execution_count": null,
   "id": "ec1e2f8d",
   "metadata": {},
   "outputs": [],
   "source": [
    "callbacks=[EarlyStopping(monitor = \"val_loss\", patience = 15, \n",
    "            restore_best_weights = True, mode='min')\n",
    "            ,ReduceLROnPlateau(monitor='val_loss', factor=0.2, patience=2, mode='min')\n",
    "            ]"
   ]
  },
  {
   "cell_type": "code",
   "execution_count": null,
   "id": "b605835b",
   "metadata": {},
   "outputs": [],
   "source": [
    "# Model structure and hyperparameters\n",
    "\n",
    "batch_size = 32\n",
    "num_classes = 10\n",
    "epochs = 30\n",
    "model = Sequential()\n",
    "model.add(Dense(512,activation='relu'))\n",
    "# model.add(Dense(256,activation='relu'))\n",
    "model.add(Dropout(0.4))\n",
    "model.add(Dense(128,activation='relu'))\n",
    "model.add(Dropout(0.5))\n",
    "model.add(Dense(64,activation='relu'))\n",
    "model.add(Dense(num_classes, activation='softmax'))\n",
    "model.compile(loss=keras.losses.categorical_crossentropy,optimizer=keras.optimizers.Adam(learning_rate=0.001),metrics=['accuracy'])\n",
    "hist = model.fit(x_train, y_train,batch_size=batch_size,epochs=epochs,verbose=1,validation_data=(x_test, y_test),callbacks=callbacks)\n",
    "score = model.evaluate(x_test, y_test, verbose=0)\n",
    "print('Test loss:', score[0])\n",
    "print('Test accuracy:', score[1])"
   ]
  },
  {
   "cell_type": "code",
   "execution_count": null,
   "id": "5e1c38e4",
   "metadata": {
    "collapsed": true
   },
   "outputs": [],
   "source": [
    "# Saving the model so that it can be used later\n",
    "\n",
    "dump(model,'recognize.joblib')"
   ]
  }
 ],
 "metadata": {
  "kernelspec": {
   "display_name": "Python 3 (ipykernel)",
   "language": "python",
   "name": "python3"
  },
  "language_info": {
   "codemirror_mode": {
    "name": "ipython",
    "version": 3
   },
   "file_extension": ".py",
   "mimetype": "text/x-python",
   "name": "python",
   "nbconvert_exporter": "python",
   "pygments_lexer": "ipython3",
   "version": "3.11.4"
  }
 },
 "nbformat": 4,
 "nbformat_minor": 5
}
